{
 "cells": [
  {
   "cell_type": "markdown",
   "metadata": {},
   "source": [
    "# strip、lstrip、rstrip的使用说明"
   ]
  },
  {
   "cell_type": "markdown",
   "metadata": {},
   "source": [
    "* strip() 方法用于移除字符串头尾指定的字符（默认为空格或换行符）或字符序列。\n",
    "* lstrip()方法用于移除字符串左侧制定的字符（默认为空格或换行符）或字符序列。\n",
    "* rstrip()方法用于移除字符串左侧制定的字符（默认为空格或换行符）或字符序列。\n",
    "* 注意：该方法只能删除开头或是结尾的字符，不能删除中间部分的字符。"
   ]
  },
  {
   "cell_type": "code",
   "execution_count": 7,
   "metadata": {},
   "outputs": [
    {
     "name": "stdout",
     "output_type": "stream",
     "text": [
      "55550000\n",
      "00005555\n",
      "5555\n"
     ]
    }
   ],
   "source": [
    "str = '000055550000'\n",
    "print (str.lstrip('0'))\n",
    "print (str.rstrip('0'))\n",
    "print (str.strip('0'))"
   ]
  },
  {
   "cell_type": "markdown",
   "metadata": {},
   "source": [
    "# dir的使用说明"
   ]
  },
  {
   "cell_type": "markdown",
   "metadata": {},
   "source": [
    "dir() 函数不带参数时，返回当前范围内的变量、方法和定义的类型列表；带参数时，返回参数的属性、方法列表。如果参数包含方法__dir__()，该方法将被调用。如果参数不包含__dir__()，该方法将最大限度地收集参数信息。"
   ]
  },
  {
   "cell_type": "code",
   "execution_count": 8,
   "metadata": {
    "scrolled": true
   },
   "outputs": [
    {
     "data": {
      "text/plain": [
       "['__add__',\n",
       " '__class__',\n",
       " '__contains__',\n",
       " '__delattr__',\n",
       " '__dir__',\n",
       " '__doc__',\n",
       " '__eq__',\n",
       " '__format__',\n",
       " '__ge__',\n",
       " '__getattribute__',\n",
       " '__getitem__',\n",
       " '__getnewargs__',\n",
       " '__gt__',\n",
       " '__hash__',\n",
       " '__init__',\n",
       " '__init_subclass__',\n",
       " '__iter__',\n",
       " '__le__',\n",
       " '__len__',\n",
       " '__lt__',\n",
       " '__mod__',\n",
       " '__mul__',\n",
       " '__ne__',\n",
       " '__new__',\n",
       " '__reduce__',\n",
       " '__reduce_ex__',\n",
       " '__repr__',\n",
       " '__rmod__',\n",
       " '__rmul__',\n",
       " '__setattr__',\n",
       " '__sizeof__',\n",
       " '__str__',\n",
       " '__subclasshook__',\n",
       " 'capitalize',\n",
       " 'casefold',\n",
       " 'center',\n",
       " 'count',\n",
       " 'encode',\n",
       " 'endswith',\n",
       " 'expandtabs',\n",
       " 'find',\n",
       " 'format',\n",
       " 'format_map',\n",
       " 'index',\n",
       " 'isalnum',\n",
       " 'isalpha',\n",
       " 'isdecimal',\n",
       " 'isdigit',\n",
       " 'isidentifier',\n",
       " 'islower',\n",
       " 'isnumeric',\n",
       " 'isprintable',\n",
       " 'isspace',\n",
       " 'istitle',\n",
       " 'isupper',\n",
       " 'join',\n",
       " 'ljust',\n",
       " 'lower',\n",
       " 'lstrip',\n",
       " 'maketrans',\n",
       " 'partition',\n",
       " 'replace',\n",
       " 'rfind',\n",
       " 'rindex',\n",
       " 'rjust',\n",
       " 'rpartition',\n",
       " 'rsplit',\n",
       " 'rstrip',\n",
       " 'split',\n",
       " 'splitlines',\n",
       " 'startswith',\n",
       " 'strip',\n",
       " 'swapcase',\n",
       " 'title',\n",
       " 'translate',\n",
       " 'upper',\n",
       " 'zfill']"
      ]
     },
     "execution_count": 8,
     "metadata": {},
     "output_type": "execute_result"
    }
   ],
   "source": [
    "dir(str)"
   ]
  },
  {
   "cell_type": "markdown",
   "metadata": {},
   "source": [
    "# 浅谈编码"
   ]
  },
  {
   "cell_type": "markdown",
   "metadata": {},
   "source": [
    "* 在Python3以后，字符串和bytes类型彻底分开了。字符串是以字符为单位进行处理的，bytes类型是以字节为单位处理的。\n",
    "* 先对字符串分析。python内部是使用unicode来处理的，unicode有两种编码格式，一种是UCS-2，有65536个码位，另一种是UCS-4，有2147483648g个码位。对于这两种码位，python都是支持的，这个是在编码时通过--encode-unicode=ucs2 或 --encode-unicode=ucs4来指定的。可通过下面方式确定自己默认安装的python的编码："
   ]
  },
  {
   "cell_type": "code",
   "execution_count": 26,
   "metadata": {},
   "outputs": [
    {
     "name": "stdout",
     "output_type": "stream",
     "text": [
      "1114111\n"
     ]
    }
   ],
   "source": [
    "import sys\n",
    "print(sys.maxunicode)"
   ]
  },
  {
   "cell_type": "markdown",
   "metadata": {},
   "source": [
    "* 如果输出的值为65535，那么就是UCS-2；如果是1114111，那么就是UCS-4。\n",
    "* 对bytes分析。bytes数据类型在所有的操作和使用甚至内置方法上和字符串数据类型基本一样，也是不可变序列对象。bytes对象只负责以二进制字节序列的形式记录所需记录的对象，至于对象是什么则由相应地编码格式解码决定。Python3中，bytes通常用于网络数据传输、二进制图片和文件的保存等等。可以通过调用bytes()生成bytes，如下："
   ]
  },
  {
   "cell_type": "code",
   "execution_count": 52,
   "metadata": {},
   "outputs": [
    {
     "name": "stdout",
     "output_type": "stream",
     "text": [
      "b'hello' b'' b''\n",
      "<class 'bytes'> <class 'bytes'>\n"
     ]
    }
   ],
   "source": [
    "a = b'hello'  #直接指定你好为bytes类型\n",
    "a2 = b''  #建立空bytes类型\n",
    "b = bytes()    #....\n",
    "print(a,a2,b)\n",
    "print(type(a),type(b))"
   ]
  },
  {
   "cell_type": "markdown",
   "metadata": {},
   "source": [
    "* 注意：创立bytes数据类型时，字符串必须为ASCII码所含有的，不能用汉语。但可以通过编码，将汉语字符串编码成bytes数据类型"
   ]
  },
  {
   "cell_type": "code",
   "execution_count": 62,
   "metadata": {},
   "outputs": [
    {
     "name": "stdout",
     "output_type": "stream",
     "text": [
      "string argument without an encoding\n",
      "(b'\\xe4\\xbd\\xa0\\xe5\\xa5\\xbd', 2)\n",
      "<class 'bytes'>\n",
      "<class 'bytes'>\n",
      "<class 'bytes'>\n"
     ]
    }
   ],
   "source": [
    "try:\n",
    "    a = bytes('你好')\n",
    "except SyntaxError as e :\n",
    "    print(e)\n",
    "except TypeError as e:\n",
    "    print(e)\n",
    "else:\n",
    "    print(type(a))\n",
    "##方法一\n",
    "import codecs\n",
    "str = '你好'\n",
    "look = codecs.lookup('utf-8')\n",
    "byter = look.encode(str)\n",
    "print(byter)\n",
    "print(type(byter[0]))\n",
    "##方法二\n",
    "byter2 = bytes('你好', encoding = 'utf-8')\n",
    "print(type(byter2))\n",
    "##方法三\n",
    "print(type(str.encode('utf-8')))  #默认为utf-8"
   ]
  },
  {
   "cell_type": "markdown",
   "metadata": {},
   "source": [
    "* 字符串类型与bytes类型的转换"
   ]
  },
  {
   "cell_type": "code",
   "execution_count": 61,
   "metadata": {},
   "outputs": [
    {
     "name": "stdout",
     "output_type": "stream",
     "text": [
      "<class 'str'>\n",
      "(b'hello', 5)\n",
      "<class 'bytes'>\n",
      "<class 'bytes'>\n",
      "<class 'str'>\n",
      "('hello', 5)\n",
      "<class 'str'>\n"
     ]
    }
   ],
   "source": [
    "##字符串转换为bytes类型，即编码\n",
    "#方法一\n",
    "str = 'hello'\n",
    "print(type(str))\n",
    "byter = str.encode('utf-8')#默认为utf-8，可以换成其他编码格式，如 byter = str.encode('gb2312)\n",
    "#方法二，使用codecs模块\n",
    "import codecs\n",
    "look = codecs.lookup('utf-8')  #建立utf-8类型的编辑器\n",
    "byter = look.encode(str)\n",
    "print(byter)\n",
    "print(type(byter[0]))\n",
    "\n",
    "##bytes类型转换为字符串类型，即解码\n",
    "#方法一\n",
    "byter = b'hello'   #建立的bytes类型，默认编码格式为ut-8\n",
    "print(type(byter))\n",
    "str = byter.decode('utf-8')  #如果是其他格式，则必须要改格式 \n",
    "print(type(str))\n",
    "#方法二\n",
    "import codecs\n",
    "look = codecs.lookup('utf-8')\n",
    "str = look.decode(byter)\n",
    "print(str)\n",
    "print(type(str[0]))"
   ]
  },
  {
   "cell_type": "markdown",
   "metadata": {},
   "source": [
    "# codecs模块讲解\n",
    "* 函数一：codecs.encode(object,encoding,errors='strict')使用，errors默认为strict，还有ignore、replace等"
   ]
  },
  {
   "cell_type": "code",
   "execution_count": 96,
   "metadata": {},
   "outputs": [
    {
     "name": "stdout",
     "output_type": "stream",
     "text": [
      "b'hello'\n",
      "<class 'bytes'>\n"
     ]
    }
   ],
   "source": [
    "import codecs\n",
    "str = 'hello'\n",
    "byter = codecs.encode(str,'gbk')\n",
    "print(byter)\n",
    "print(type(byter))"
   ]
  },
  {
   "cell_type": "markdown",
   "metadata": {},
   "source": [
    "* 函数二：codecs.decode(object,encoding，errors='strict')使用,errors同encode"
   ]
  },
  {
   "cell_type": "code",
   "execution_count": 97,
   "metadata": {},
   "outputs": [
    {
     "name": "stdout",
     "output_type": "stream",
     "text": [
      "hello\n",
      "<class 'str'>\n"
     ]
    }
   ],
   "source": [
    "str2 = codecs.decode(byter,'gbk')\n",
    "print(str2)\n",
    "print(type(str2))"
   ]
  },
  {
   "cell_type": "markdown",
   "metadata": {},
   "source": [
    "* 函数三：codecs.lookup(encoding)使用\n",
    "* 在Python编解码器注册表中查找编解码器信息，并返回如下定义的CodecInfo对象。\n",
    "* encoding首先在注册表的缓存中查找。 如果未找到，则扫描已注册的搜索功能列表。 如果未找到CodecInfo对象，则引发LookupError。 否则，CodecInfo对象存储在缓存中并返回给调用者。"
   ]
  },
  {
   "cell_type": "code",
   "execution_count": 82,
   "metadata": {},
   "outputs": [
    {
     "name": "stdout",
     "output_type": "stream",
     "text": [
      "unknown encoding: ddd\n",
      "<built-in function utf_8_encode> <function decode at 0x0000022F96765158> <class 'encodings.utf_8.StreamReader'> <class 'encodings.utf_8.StreamWriter'>\n",
      "(b'hellor', 6)\n",
      "(b'hellor', 6)\n"
     ]
    }
   ],
   "source": [
    "try:\n",
    "    look_error = codecs.lookup('ddd') #实际并不存在ddd编码类型\n",
    "except LookupError as e:\n",
    "    print(e)\n",
    "    \n",
    "look = codecs.lookup('utf-8')#创立utf-8编码器。look是个元组，\n",
    "print(look[0],look[1],look[2],look[3])\n",
    "look2 = codecs.lookup('gbk')#创立gbk编码器\n",
    "\n",
    "encoder = look[0] \n",
    "decoder = look[1]\n",
    "StreamReader = look[2]\n",
    "StreamWriter = look[3]\n",
    "\n",
    "str = 'hellor'\n",
    "byter = look.encode(str)\n",
    "byter2 = encoder(str)\n",
    "print(byter)\n",
    "print(byter2)#其他用法类似"
   ]
  },
  {
   "cell_type": "raw",
   "metadata": {},
   "source": [
    "* 函数四：codecs.getencoder(encoding)使用：查找给定编码的编解码器并返回其编码器功能。\n",
    "* 函数五：codecs.getdecoder(encoding)使用：查找给定编码的编解码器并返回其解码器功能。\n",
    "* 函数六：codecs.getreader(encoding)使用：查找给定编码的编解码器，并返回其StreamReader类或工厂函数。\n",
    "* 函数七：codecs.getwriter(encoding)使用：查找给定编码的编解码器，并返回其StreamWriter类或工厂函数。\n",
    "* 函数八：codecs.getincrementalencoder(encoding)使用：查找给定编码的编解码器，并返回其增量编码器类或工厂函数。\n",
    "* 函数九：codecs.getincrementaldecoder(encoding)使用：查找给定编码的编解码器，并返回其增量解码器类或工厂函数。"
   ]
  },
  {
   "cell_type": "code",
   "execution_count": 95,
   "metadata": {},
   "outputs": [
    {
     "name": "stdout",
     "output_type": "stream",
     "text": [
      "<built-in function utf_8_encode>\n",
      "(b'hello', 5)\n"
     ]
    }
   ],
   "source": [
    "print(codecs.getencoder('utf-8'))\n",
    "encoder = codecs.getencoder('utf-8')\n",
    "byter = encoder (str)\n",
    "print(byter)# 如果你只需要编码，用此法不需要创建编码器"
   ]
  },
  {
   "cell_type": "markdown",
   "metadata": {},
   "source": [
    "* 以上是对codecs.getencoder(encoding)函数使用的例子，结果表示“给定编码的编码器是内置的utf-8编码函数”。其他函数的使用不再赘述。"
   ]
  },
  {
   "cell_type": "markdown",
   "metadata": {},
   "source": [
    "* 函数十：codecs.register(search_function)使用：注册编解码器搜索功能。搜索函数将接受一个参数，即所有小写字母中的编码名称，并返回CodecInfo对象。如果搜索函数无法找到给定的编码，则应返回None.\n",
    "* 注：搜索函数注册目前是不可逆的，这可能会在某些情况下造成问题，例如单元测试或模块重新加载。"
   ]
  },
  {
   "cell_type": "markdown",
   "metadata": {},
   "source": [
    "* 函数十一：codecs.open(filename, mode='r', encoding=None, errors='strict', buffering=1)使用：encoding指定要用于文件的编码,允许对字节进行编码\n",
    "和解码的任何编码，文件方法支持的数据类型取决于所使用的编解码器;errors可能会给出定义错误处理的方法,默认为'strict',如果有误，在编码时会引发\n",
    "ValueError错误;buffering和内部函数open()用法一致，默认为1，即以行读取。\n",
    "* 注：潜在的编码文件总是以二进制模式打开。在读取和写入的过程中，'\\n'不自动转换。mode参数的用法和内置open()函数用法一致，'b'(即二进制模式)是自\n",
    "动增加的"
   ]
  },
  {
   "cell_type": "markdown",
   "metadata": {},
   "source": [
    "# 随笔"
   ]
  },
  {
   "cell_type": "code",
   "execution_count": 14,
   "metadata": {},
   "outputs": [
    {
     "name": "stdout",
     "output_type": "stream",
     "text": [
      "C:nihao\n",
      "s\n",
      "C:nihao\\ns\n"
     ]
    }
   ],
   "source": [
    "print('C:nihao\\ns')#here \\n means new lines\n",
    "print(r'C:nihao\\ns')#note the r before quote(引用)"
   ]
  },
  {
   "cell_type": "code",
   "execution_count": 17,
   "metadata": {
    "scrolled": true
   },
   "outputs": [
    {
     "data": {
      "text/plain": [
       "['__add__',\n",
       " '__class__',\n",
       " '__contains__',\n",
       " '__delattr__',\n",
       " '__dir__',\n",
       " '__doc__',\n",
       " '__eq__',\n",
       " '__format__',\n",
       " '__ge__',\n",
       " '__getattribute__',\n",
       " '__getitem__',\n",
       " '__getnewargs__',\n",
       " '__gt__',\n",
       " '__hash__',\n",
       " '__init__',\n",
       " '__init_subclass__',\n",
       " '__iter__',\n",
       " '__le__',\n",
       " '__len__',\n",
       " '__lt__',\n",
       " '__mod__',\n",
       " '__mul__',\n",
       " '__ne__',\n",
       " '__new__',\n",
       " '__reduce__',\n",
       " '__reduce_ex__',\n",
       " '__repr__',\n",
       " '__rmod__',\n",
       " '__rmul__',\n",
       " '__setattr__',\n",
       " '__sizeof__',\n",
       " '__str__',\n",
       " '__subclasshook__',\n",
       " 'capitalize',\n",
       " 'casefold',\n",
       " 'center',\n",
       " 'count',\n",
       " 'encode',\n",
       " 'endswith',\n",
       " 'expandtabs',\n",
       " 'find',\n",
       " 'format',\n",
       " 'format_map',\n",
       " 'index',\n",
       " 'isalnum',\n",
       " 'isalpha',\n",
       " 'isdecimal',\n",
       " 'isdigit',\n",
       " 'isidentifier',\n",
       " 'islower',\n",
       " 'isnumeric',\n",
       " 'isprintable',\n",
       " 'isspace',\n",
       " 'istitle',\n",
       " 'isupper',\n",
       " 'join',\n",
       " 'ljust',\n",
       " 'lower',\n",
       " 'lstrip',\n",
       " 'maketrans',\n",
       " 'partition',\n",
       " 'replace',\n",
       " 'rfind',\n",
       " 'rindex',\n",
       " 'rjust',\n",
       " 'rpartition',\n",
       " 'rsplit',\n",
       " 'rstrip',\n",
       " 'split',\n",
       " 'splitlines',\n",
       " 'startswith',\n",
       " 'strip',\n",
       " 'swapcase',\n",
       " 'title',\n",
       " 'translate',\n",
       " 'upper',\n",
       " 'zfill']"
      ]
     },
     "execution_count": 17,
     "metadata": {},
     "output_type": "execute_result"
    }
   ],
   "source": [
    "dir(a)"
   ]
  },
  {
   "cell_type": "code",
   "execution_count": 19,
   "metadata": {},
   "outputs": [
    {
     "name": "stdout",
     "output_type": "stream",
     "text": [
      "<class 'bytes'>\n"
     ]
    }
   ],
   "source": [
    "print(type(a.encode('gb2312')))"
   ]
  }
 ],
 "metadata": {
  "kernelspec": {
   "display_name": "Python 3",
   "language": "python",
   "name": "python3"
  },
  "language_info": {
   "codemirror_mode": {
    "name": "ipython",
    "version": 3
   },
   "file_extension": ".py",
   "mimetype": "text/x-python",
   "name": "python",
   "nbconvert_exporter": "python",
   "pygments_lexer": "ipython3",
   "version": "3.6.4"
  }
 },
 "nbformat": 4,
 "nbformat_minor": 2
}
